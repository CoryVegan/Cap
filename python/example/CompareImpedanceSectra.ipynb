{
 "cells": [
  {
   "cell_type": "code",
   "execution_count": null,
   "metadata": {
    "collapsed": true
   },
   "outputs": [],
   "source": [
    "# TODO: move into a file and import\n",
    "from numpy import array, append\n",
    "def read_impedance_spectrum(filename):\n",
    "    '''Read the electrochemical impedance spectrum from a comma-separated file.\n",
    "\n",
    "    Single line of headers, with resistance in ohm, reactance in ohm, followed \n",
    "    by frequency in hertz.\n",
    "    \n",
    "    Z(f) = R + jX\n",
    "    \n",
    "    Parameters\n",
    "    ----------\n",
    "    filename : str\n",
    "        Comma-separated values (CSV) file that stores the spectrum.\n",
    "\n",
    "    Returns\n",
    "    -------\n",
    "    dict\n",
    "        The complex impedance and frequency as numpy array objects.\n",
    "    '''\n",
    "    frequency = array([], dtype=float)\n",
    "    impedance = array([], dtype=complex)\n",
    "    with open(filename) as fin:\n",
    "        lines = fin.readlines()\n",
    "        # lines[0] contains the column headers\n",
    "        for line in lines[1:]:\n",
    "            (R, X, f) = line.rstrip('\\n').split(',')\n",
    "            frequency = append(frequency, float(f))\n",
    "            # note that the data has opposite sign for the reactance\n",
    "            impedance = append(impedance, float(R) - float(X)*1j)\n",
    "    return {\n",
    "        'frequency': frequency,\n",
    "        'impedance': impedance\n",
    "    }"
   ]
  },
  {
   "cell_type": "code",
   "execution_count": null,
   "metadata": {
    "collapsed": true
   },
   "outputs": [],
   "source": [
    "experimental_data = read_impedance_spectrum('Maxwell electrodes with TEABF4 electrolyte at open circuit coin cell.csv')"
   ]
  },
  {
   "cell_type": "code",
   "execution_count": null,
   "metadata": {
    "collapsed": true
   },
   "outputs": [],
   "source": [
    "from pycap import PropertyTree, EnergyStorageDevice\n",
    "from pycap import ElectrochemicalImpedanceSpectroscopy, NyquistPlot\n",
    "ptree = PropertyTree()\n",
    "ptree.put_string('type', 'SeriesRC')\n",
    "ptree.put_double('series_resistance', 3.3)\n",
    "ptree.put_double('capacitance', 0.26)\n",
    "device = EnergyStorageDevice(ptree)\n",
    "ptree = PropertyTree()\n",
    "ptree.put_double('dc_voltage', 0)\n",
    "ptree.put_string('harmonics', '1')\n",
    "ptree.put_string('amplitudes', '5e-3')\n",
    "ptree.put_string('phases', '0')\n",
    "ptree.put_int('steps_per_cycle', 512)\n",
    "ptree.put_int('cycles', 2)\n",
    "ptree.put_int('ignore_cycles', 1)\n",
    "# NOTE: the ``frequency`` argument allows us to compute the same data that in the experiment\n",
    "eis = ElectrochemicalImpedanceSpectroscopy(ptree, frequencies=experimental_data['frequency'])\n",
    "eis.run(device)\n",
    "\n",
    "numerical_data = eis._data"
   ]
  },
  {
   "cell_type": "code",
   "execution_count": null,
   "metadata": {
    "collapsed": false
   },
   "outputs": [],
   "source": [
    "%matplotlib inline\n",
    "nyquist = NyquistPlot()\n",
    "# declare a dummy class that mimics Cap EIS Experiment to call from NyquistPlot\n",
    "class Dummy:\n",
    "    def __init__(self, data):\n",
    "        self._data = data\n",
    "dummy = Dummy(experimental_data)\n",
    "nyquist.update(dummy)\n",
    "nyquist.update(eis)"
   ]
  },
  {
   "cell_type": "markdown",
   "metadata": {},
   "source": [
    "$\\int_0^\\infty \\frac{|Z - Z_{ref}|}{|Z_{ref}|} d\\log(f)$"
   ]
  },
  {
   "cell_type": "code",
   "execution_count": null,
   "metadata": {
    "collapsed": false
   },
   "outputs": [],
   "source": [
    "# one possible way of computing this\n",
    "from numpy import trapz, absolute, log\n",
    "f = experimental_data['frequency']\n",
    "Z_exp = experimental_data['impedance']\n",
    "Z_num = numerical_data['impedance']\n",
    "# minus sign because f goes from upper to lower bound of the range\n",
    "print(-trapz(absolute(Z_num - Z_exp), log(f)))"
   ]
  },
  {
   "cell_type": "code",
   "execution_count": null,
   "metadata": {
    "collapsed": false
   },
   "outputs": [],
   "source": [
    "from scipy.optimize import minimize\n",
    "from numpy import trapz, absolute, log\n",
    "from pycap import PropertyTree, EnergyStorageDevice\n",
    "from pycap import ElectrochemicalImpedanceSpectroscopy\n",
    "def fun(x):\n",
    "    print(x)\n",
    "\n",
    "    experimental_data = read_impedance_spectrum('Maxwell electrodes with TEABF4 electrolyte at open circuit coin cell.csv')\n",
    "    \n",
    "    ptree = PropertyTree()\n",
    "    ptree.put_string('type', 'SeriesRC')\n",
    "    ptree.put_double('series_resistance', x[0])\n",
    "    ptree.put_double('capacitance', x[1])\n",
    "    device = EnergyStorageDevice(ptree)\n",
    "\n",
    "    ptree = PropertyTree()\n",
    "    ptree.put_double('dc_voltage', 0)\n",
    "    ptree.put_string('harmonics', '1')\n",
    "    ptree.put_string('amplitudes', '5e-3')\n",
    "    ptree.put_string('phases', '0')\n",
    "    ptree.put_int('steps_per_cycle', 512)\n",
    "    ptree.put_int('cycles', 2)\n",
    "    ptree.put_int('ignore_cycles', 1)\n",
    "    eis = ElectrochemicalImpedanceSpectroscopy(ptree, frequencies=experimental_data['frequency'])\n",
    "    eis.run(device)\n",
    "\n",
    "    numerical_data = eis._data\n",
    "\n",
    "    f = experimental_data['frequency']\n",
    "    Z_exp = experimental_data['impedance']\n",
    "    Z_num = numerical_data['impedance']\n",
    "\n",
    "    return -trapz(absolute(Z_num - Z_exp), log(f))\n",
    "x0 = [3.3, 0.26]\n",
    "minimize(fun, x0, bounds=[(0, None), (0, None)])"
   ]
  }
 ],
 "metadata": {
  "kernelspec": {
   "display_name": "Python 3",
   "language": "python",
   "name": "python3"
  },
  "language_info": {
   "codemirror_mode": {
    "name": "ipython",
    "version": 3
   },
   "file_extension": ".py",
   "mimetype": "text/x-python",
   "name": "python",
   "nbconvert_exporter": "python",
   "pygments_lexer": "ipython3",
   "version": "3.5.1+"
  }
 },
 "nbformat": 4,
 "nbformat_minor": 0
}
